{
 "cells": [
  {
   "cell_type": "code",
   "execution_count": 1,
   "id": "83e95099-81e9-4a01-bec0-6f8c9e3a7fec",
   "metadata": {},
   "outputs": [
    {
     "name": "stdout",
     "output_type": "stream",
     "text": [
      "WARNING:tensorflow:From C:\\Users\\Syahrul Azka\\AppData\\Roaming\\Python\\Python311\\site-packages\\keras\\src\\losses.py:2976: The name tf.losses.sparse_softmax_cross_entropy is deprecated. Please use tf.compat.v1.losses.sparse_softmax_cross_entropy instead.\n",
      "\n"
     ]
    }
   ],
   "source": [
    "import os\n",
    "import time\n",
    "import cv2\n",
    "import base64\n",
    "import numpy as np\n",
    "from clickhouse_driver import Client\n",
    "from deepface import DeepFace\n",
    "from datetime import datetime"
   ]
  },
  {
   "cell_type": "code",
   "execution_count": 139,
   "id": "da9ceb0b-5d43-4e78-aa51-6f8c63c3fd20",
   "metadata": {},
   "outputs": [
    {
     "name": "stdin",
     "output_type": "stream",
     "text": [
      "Masukkan nama karyawan:  syahel\n",
      "Masukkan ID karyawan:  121\n"
     ]
    },
    {
     "name": "stdout",
     "output_type": "stream",
     "text": [
      "Photo 1 saved as foto_1.jpg at ./temporary_photo\\foto_1.jpg\n",
      "Photo 2 saved as foto_2.jpg at ./temporary_photo\\foto_2.jpg\n",
      "Photo 3 saved as foto_3.jpg at ./temporary_photo\\foto_3.jpg\n",
      "Photo 4 saved as foto_4.jpg at ./temporary_photo\\foto_4.jpg\n",
      "Photo 5 saved as foto_5.jpg at ./temporary_photo\\foto_5.jpg\n",
      "Photo 6 saved as foto_6.jpg at ./temporary_photo\\foto_6.jpg\n",
      "Photo 7 saved as foto_7.jpg at ./temporary_photo\\foto_7.jpg\n",
      "Photo 8 saved as foto_8.jpg at ./temporary_photo\\foto_8.jpg\n",
      "Photo 9 saved as foto_9.jpg at ./temporary_photo\\foto_9.jpg\n",
      "Photo 10 saved as foto_10.jpg at ./temporary_photo\\foto_10.jpg\n",
      "Photo 11 saved as foto_11.jpg at ./temporary_photo\\foto_11.jpg\n",
      "Photo 12 saved as foto_12.jpg at ./temporary_photo\\foto_12.jpg\n",
      "Photo 13 saved as foto_13.jpg at ./temporary_photo\\foto_13.jpg\n",
      "Photo 14 saved as foto_14.jpg at ./temporary_photo\\foto_14.jpg\n",
      "Photo 15 saved as foto_15.jpg at ./temporary_photo\\foto_15.jpg\n",
      "Photo 16 saved as foto_16.jpg at ./temporary_photo\\foto_16.jpg\n",
      "Photo 17 saved as foto_17.jpg at ./temporary_photo\\foto_17.jpg\n",
      "Photo 18 saved as foto_18.jpg at ./temporary_photo\\foto_18.jpg\n",
      "Photo 19 saved as foto_19.jpg at ./temporary_photo\\foto_19.jpg\n",
      "Photo 20 saved as foto_20.jpg at ./temporary_photo\\foto_20.jpg\n",
      "syahel - foto_1.jpg berhasil dimasukkan ke database.\n",
      "syahel - foto_10.jpg berhasil dimasukkan ke database.\n",
      "syahel - foto_11.jpg berhasil dimasukkan ke database.\n",
      "syahel - foto_12.jpg berhasil dimasukkan ke database.\n",
      "syahel - foto_13.jpg berhasil dimasukkan ke database.\n",
      "syahel - foto_14.jpg berhasil dimasukkan ke database.\n",
      "syahel - foto_15.jpg berhasil dimasukkan ke database.\n",
      "syahel - foto_16.jpg berhasil dimasukkan ke database.\n",
      "syahel - foto_17.jpg berhasil dimasukkan ke database.\n",
      "syahel - foto_18.jpg berhasil dimasukkan ke database.\n",
      "syahel - foto_19.jpg berhasil dimasukkan ke database.\n",
      "syahel - foto_2.jpg berhasil dimasukkan ke database.\n",
      "syahel - foto_20.jpg berhasil dimasukkan ke database.\n",
      "syahel - foto_3.jpg berhasil dimasukkan ke database.\n",
      "syahel - foto_4.jpg berhasil dimasukkan ke database.\n",
      "syahel - foto_5.jpg berhasil dimasukkan ke database.\n",
      "syahel - foto_6.jpg berhasil dimasukkan ke database.\n",
      "syahel - foto_7.jpg berhasil dimasukkan ke database.\n",
      "syahel - foto_8.jpg berhasil dimasukkan ke database.\n",
      "syahel - foto_9.jpg berhasil dimasukkan ke database.\n"
     ]
    }
   ],
   "source": [
    "# Fungsi untuk menangkap wajah dari kamera\n",
    "def capture_face():\n",
    "    # Buat folder untuk menyimpan foto\n",
    "    output_directory = './temporary_photo'\n",
    "    os.makedirs(output_directory, exist_ok=True)\n",
    "\n",
    "    # Inisialisasi objek OpenCV untuk kamera (0 adalah indeks kamera, bisa disesuaikan)\n",
    "    cap = cv2.VideoCapture(0)\n",
    "\n",
    "    # Variabel untuk menghitung jumlah foto yang sudah diambil\n",
    "    photo_count = 0\n",
    "\n",
    "    # Loop untuk membaca frame dari kamera\n",
    "    while True:\n",
    "        # Membaca frame\n",
    "        ret, frame = cap.read()\n",
    "\n",
    "        # Menampilkan frame\n",
    "        cv2.imshow('Capture Face', frame)\n",
    "\n",
    "        # Menunggu tombol 'q' untuk mengambil foto\n",
    "        key = cv2.waitKey(1)\n",
    "        if key == ord('q'):\n",
    "            # Increment jumlah foto yang sudah diambil\n",
    "            photo_count += 1\n",
    "\n",
    "            # Menyusun path dan nama file untuk foto\n",
    "            photo_name = f'foto_{photo_count}.jpg'\n",
    "            photo_path = os.path.join(output_directory, photo_name)\n",
    "\n",
    "            # Menyimpan foto\n",
    "            cv2.imwrite(photo_path, frame)\n",
    "            print(f\"Photo {photo_count} saved as {photo_name} at {photo_path}\")\n",
    "\n",
    "            # Jika sudah mengambil 20 foto, keluar dari loop\n",
    "            if photo_count == 20:\n",
    "                break\n",
    "\n",
    "    # Menghentikan kamera dan menutup jendela\n",
    "    \n",
    "    cap.release()\n",
    "    cv2.destroyAllWindows()\n",
    "\n",
    "def image_to_vector(img_path):\n",
    "    try:\n",
    "        # Gunakan DeepFace untuk mendapatkan vektor representasi dan base64\n",
    "        result = DeepFace.represent(img_path, \n",
    "                                    model_name = \"Facenet512\",\n",
    "                                    enforce_detection = False,\n",
    "                                    detector_backend = \"fastmtcnn\")\n",
    "        \n",
    "        # Ambil nilai dari kunci pertama\n",
    "        vector_representation = result[0]['embedding']\n",
    "\n",
    "        # Ubah img_path ke base64\n",
    "        with open(img_path, \"rb\") as image_file:\n",
    "            base64_encoded = base64.b64encode(image_file.read()).decode('utf-8')\n",
    "\n",
    "        return vector_representation, base64_encoded\n",
    "    except Exception as e:\n",
    "        print(\"Error:\", str(e))\n",
    "        return None, None\n",
    "\n",
    "# Fungsi untuk menyimpan data karyawan ke tabel ClickHouse\n",
    "def save_employee_data(employee_id, employee_name, vector_representation, base64_encoded):\n",
    "    try:\n",
    "        # Inisialisasi koneksi ClickHouse\n",
    "        client = Client(host='localhost', port=9000, user='default', database='default')\n",
    "        \n",
    "        # Query untuk menyimpan data ke tabel karyawan\n",
    "        query = f\"INSERT INTO employee (employee_id, employee_name, embedding, image_base64) VALUES ({employee_id}, '{employee_name}', {vector_representation}, '{base64_encoded}');\"\n",
    "\n",
    "        # Eksekusi query\n",
    "        client.execute(query)\n",
    "    except Exception as e:\n",
    "        print(f\"Error: {e}\")\n",
    "\n",
    "def insert_ke_database():\n",
    "    # Direktori tempat Anda menyimpan 20 foto\n",
    "    input_directory = './temporary_photo'\n",
    "    employee_name = input(\"Masukkan nama karyawan: \")\n",
    "    employee_id = int(input(\"Masukkan ID karyawan: \"))    \n",
    "\n",
    "    capture_face()\n",
    "\n",
    "    # Mengecek apakah direktori ada dan tidak kosong\n",
    "    # if os.path.exists(input_directory) and os.listdir(input_directory):\n",
    "    # Iterasi setiap file dalam direktori\n",
    "    for filename in os.listdir(input_directory):\n",
    "        if filename.endswith(\".jpg\"):\n",
    "            # Path lengkap ke file\n",
    "            img_path = os.path.join(input_directory, filename)\n",
    "\n",
    "            # Menggunakan fungsi image_to_vector untuk mendapatkan vektor dan base64\n",
    "            vector_representation, base64_encoded = image_to_vector(img_path)\n",
    "\n",
    "            # Menggunakan fungsi save_employee_data untuk menyimpan data ke ClickHouse\n",
    "            if vector_representation is not None and base64_encoded is not None:\n",
    "                save_employee_data(employee_id, employee_name, vector_representation, base64_encoded)\n",
    "                print(f\"{employee_name} - {filename} berhasil dimasukkan ke database.\")\n",
    "    #else:\n",
    "     #   print(\"Direktori kosong atau tidak ditemukan.\")\n",
    "\n",
    "insert_ke_database()"
   ]
  },
  {
   "cell_type": "markdown",
   "id": "fb4d036f-ead1-4768-999b-4bf22bebd484",
   "metadata": {},
   "source": [
    "-------------------------------------------------------------------------------------------------------------------------------"
   ]
  },
  {
   "cell_type": "code",
   "execution_count": 94,
   "id": "13a9870f-aa13-47d8-9809-b0b894ffbe98",
   "metadata": {},
   "outputs": [
    {
     "data": {
      "text/html": [
       "<div>\n",
       "<style scoped>\n",
       "    .dataframe tbody tr th:only-of-type {\n",
       "        vertical-align: middle;\n",
       "    }\n",
       "\n",
       "    .dataframe tbody tr th {\n",
       "        vertical-align: top;\n",
       "    }\n",
       "\n",
       "    .dataframe thead th {\n",
       "        text-align: right;\n",
       "    }\n",
       "</style>\n",
       "<table border=\"1\" class=\"dataframe\">\n",
       "  <thead>\n",
       "    <tr style=\"text-align: right;\">\n",
       "      <th></th>\n",
       "      <th>employee_id</th>\n",
       "      <th>employee_name</th>\n",
       "      <th>waktu_kehadiran</th>\n",
       "    </tr>\n",
       "  </thead>\n",
       "  <tbody>\n",
       "    <tr>\n",
       "      <th>0</th>\n",
       "      <td>1001</td>\n",
       "      <td>Azka</td>\n",
       "      <td>2024-02-15 13:56:15</td>\n",
       "    </tr>\n",
       "    <tr>\n",
       "      <th>1</th>\n",
       "      <td>1002</td>\n",
       "      <td>Syahel</td>\n",
       "      <td>2024-02-13 18:07:01</td>\n",
       "    </tr>\n",
       "    <tr>\n",
       "      <th>2</th>\n",
       "      <td>1002</td>\n",
       "      <td>Syahel</td>\n",
       "      <td>2024-02-13 18:07:03</td>\n",
       "    </tr>\n",
       "    <tr>\n",
       "      <th>3</th>\n",
       "      <td>1002</td>\n",
       "      <td>Syahel</td>\n",
       "      <td>2024-02-13 18:07:05</td>\n",
       "    </tr>\n",
       "    <tr>\n",
       "      <th>4</th>\n",
       "      <td>1002</td>\n",
       "      <td>Syahel</td>\n",
       "      <td>2024-02-13 18:07:08</td>\n",
       "    </tr>\n",
       "  </tbody>\n",
       "</table>\n",
       "</div>"
      ],
      "text/plain": [
       "   employee_id employee_name     waktu_kehadiran\n",
       "0         1001          Azka 2024-02-15 13:56:15\n",
       "1         1002        Syahel 2024-02-13 18:07:01\n",
       "2         1002        Syahel 2024-02-13 18:07:03\n",
       "3         1002        Syahel 2024-02-13 18:07:05\n",
       "4         1002        Syahel 2024-02-13 18:07:08"
      ]
     },
     "execution_count": 94,
     "metadata": {},
     "output_type": "execute_result"
    }
   ],
   "source": [
    "c = Client(host='localhost', port=9000, user='default', database='default')\n",
    "c.query_dataframe('select * from kehadiran').head()"
   ]
  },
  {
   "cell_type": "code",
   "execution_count": 174,
   "id": "9c73eab8-cf10-4e11-92b0-3af1484f1533",
   "metadata": {},
   "outputs": [],
   "source": [
    "today_date = datetime.now().strftime('%Y-%m-%d')\n",
    "\n",
    "# Query SQL untuk memeriksa kehadiran\n",
    "query = f\"SELECT * FROM kehadiran WHERE employee_id = 121 AND employee_name = 'syahel' AND waktu_kehadiran >= '{today_date}'\"\n",
    "\n",
    "# Eksekusi query dengan menggunakan variabel client\n",
    "hadir = client.execute(query)"
   ]
  },
  {
   "cell_type": "code",
   "execution_count": 175,
   "id": "2703c639-2cf9-4f79-bf85-f62d3c36cc20",
   "metadata": {},
   "outputs": [
    {
     "data": {
      "text/plain": [
       "[(121, 'syahel', datetime.datetime(2024, 2, 22, 10, 34, 34))]"
      ]
     },
     "execution_count": 175,
     "metadata": {},
     "output_type": "execute_result"
    }
   ],
   "source": [
    "hadir"
   ]
  },
  {
   "cell_type": "code",
   "execution_count": 173,
   "id": "d173c238-b379-43c2-96fd-2c13f8890631",
   "metadata": {},
   "outputs": [
    {
     "data": {
      "text/plain": [
       "'2024-02-22 11:42:42'"
      ]
     },
     "execution_count": 173,
     "metadata": {},
     "output_type": "execute_result"
    }
   ],
   "source": [
    "datetime.now().strftime('%Y-%m-%d %H:%M:%S')"
   ]
  },
  {
   "cell_type": "code",
   "execution_count": 31,
   "id": "4340c488-fa69-43c3-9970-f721e3cd26d2",
   "metadata": {},
   "outputs": [],
   "source": [
    "result1 = DeepFace.represent('azka_tes.jpg', \n",
    "                            model_name = \"Facenet512\",\n",
    "                            enforce_detection = False,\n",
    "                            detector_backend = \"fastmtcnn\")\n",
    "        \n",
    "#Ambil nilai dari kunci pertama\n",
    "vector_representation1 = result1[0]['embedding']"
   ]
  },
  {
   "cell_type": "code",
   "execution_count": 40,
   "id": "e04366be-ea1b-405c-8fba-c1699b86f5fe",
   "metadata": {},
   "outputs": [
    {
     "data": {
      "text/plain": [
       "{'x': 477, 'y': 518, 'w': 150, 'h': 189}"
      ]
     },
     "execution_count": 40,
     "metadata": {},
     "output_type": "execute_result"
    }
   ],
   "source": [
    "#print(vector_representation1)\n",
    "result1[0]['facial_area']"
   ]
  },
  {
   "cell_type": "markdown",
   "id": "dcff4e8c-fba8-460c-aeae-39d4117869ce",
   "metadata": {},
   "source": [
    "--------------------------------------------------------------------------------------------------------------"
   ]
  },
  {
   "cell_type": "code",
   "execution_count": 170,
   "id": "32d63f0a-4596-4d51-ac70-f23643ca3a63",
   "metadata": {},
   "outputs": [],
   "source": [
    "def get_face_representation(frame):\n",
    "    # Save the frame as an image file\n",
    "    image_path = 'temp_frame.jpg'\n",
    "    cv2.imwrite(image_path, frame)\n",
    "\n",
    "    # detected_face = DeepFace.detectFace(image_path=image_path, detector_backend='opencv')\n",
    "    representation = DeepFace.represent(img_path=image_path, model_name='Facenet512', enforce_detection=False, detector_backend='fastmtcnn')\n",
    "    face_representation = representation[0]['embedding']\n",
    "    facial_area = list(representation[0]['facial_area'].values())\n",
    "    base64_representation = base64.b64encode(cv2.imencode('.jpg', cv2.imread(image_path))[1]).decode()\n",
    "\n",
    "    # Remove the temporary image file\n",
    "    os.remove(image_path)\n",
    "\n",
    "    return face_representation, base64_representation, facial_area\n",
    "\n",
    "def record_attendance(employee_id, employee_name):\n",
    "    current_time = datetime.now().strftime('%Y-%m-%d %H:%M:%S')\n",
    "    client.execute(\n",
    "        f'INSERT INTO kehadiran (employee_id, employee_name, waktu_kehadiran) VALUES ({employee_id}, \\'{employee_name}\\', \\'{current_time}\\')'\n",
    "    )\n",
    "\n",
    "def update_or_insert_employee(employee_id, employee_name, embedding, base64_representation):\n",
    "    client.execute(\n",
    "        f'INSERT INTO employee (employee_id, employee_name, embedding, image_base64) '\n",
    "        f'VALUES ({employee_id}, \\'{employee_name}\\', {embedding}, \\'{base64_representation}\\') '\n",
    "    )\n",
    "\n",
    "def display_attendance_info(frame, employee_id, employee_name, cosine_similarity, facial_area):\n",
    "    # Gambar bounding box untuk wajah\n",
    "    x, y, w, h = facial_area[0], facial_area[1], facial_area[2], facial_area[3]\n",
    "    cv2.rectangle(frame, (x, y), (x+w, y+h), (0, 255, 0), 2)\n",
    "\n",
    "    # Tambahkan teks nama di bawah bounding box\n",
    "    cv2.putText(frame, employee_name, (x, y + h + 30), cv2.FONT_HERSHEY_SIMPLEX, 1, (255, 255, 255), 2)\n",
    "\n",
    "    # Tambahkan teks similarity di bawah nama\n",
    "    cv2.putText(frame, f'Similarity: {format(cosine_similarity, \".2%\")}', (x, y + h + 60), cv2.FONT_HERSHEY_SIMPLEX, 0.7, (255, 255, 255), 2)\n",
    "\n",
    "    # Tampilkan frame di jendela\n",
    "    cv2.imshow('Capture Face', frame)\n",
    "\n",
    "def cek_kehadiran(employee_id, employee_name):\n",
    "    # Ambil tanggal hari ini\n",
    "    today_date = datetime.now().strftime('%Y-%m-%d')\n",
    "\n",
    "    # Query SQL untuk memeriksa kehadiran\n",
    "    query = f\"SELECT * FROM kehadiran WHERE employee_id = '{employee_id}' AND employee_name = '{employee_name}' AND waktu_kehadiran >= '{today_date}'\"\n",
    "\n",
    "    # Eksekusi query dengan menggunakan variabel client\n",
    "    hadir = client.execute(query)\n",
    "\n",
    "    return hadir # if len(hadir) > 0 maka sudah hadir\n",
    "\n",
    "def compare_faces(frame, embedding, employee_id, facial_area):\n",
    "    query_result = client.query_dataframe(\n",
    "        f'SELECT employee_id, employee_name, 1 - cosineDistance({embedding}, embedding) AS cosineSimilarity, image_base64 FROM employee ORDER BY cosineSimilarity DESC LIMIT 1'\n",
    "    )\n",
    "\n",
    "    if not query_result.empty:\n",
    "        result_employee_id, result_employee_name, cosine_similarity, image_base64 = query_result.iloc[0]\n",
    "        if cosine_similarity > threshold:\n",
    "            display_attendance_info(frame, result_employee_id, result_employee_name, cosine_similarity, facial_area)\n",
    "            status_kehadiran = cek_kehadiran(result_employee_id, result_employee_name)\n",
    "            if len(status_kehadiran) == 0:\n",
    "                record_attendance(result_employee_id, result_employee_name)\n",
    "                update_or_insert_employee(result_employee_id, result_employee_name, embedding, image_base64)\n",
    "        else:\n",
    "            info_text = 'Wajah tidak dikenali'\n",
    "            x, y, w, h = facial_area[0], facial_area[1], facial_area[2], facial_area[3]\n",
    "            cv2.rectangle(frame, (x, y), (x+w, y+h), (0, 0, 255), 2)\n",
    "            cv2.putText(frame, info_text, (x - 30, y + h + 30), cv2.FONT_HERSHEY_SIMPLEX, 1, (0, 0, 255), 2)\n",
    "            cv2.imshow('Capture Face', frame)\n",
    "            #print(\"Wajah tidak ditemukan. Coba lagi!\")\n",
    "    else:\n",
    "        print(\"Wajah tidak ditemukan. Coba lagi!\")\n",
    "\n",
    "def main():\n",
    "    cap = cv2.VideoCapture(0)\n",
    "\n",
    "    while True:\n",
    "        ret, frame = cap.read()\n",
    "\n",
    "        cv2.imshow('Capture Face', frame)\n",
    "\n",
    "        try:\n",
    "            face_representation, base64_representation, facial_area = get_face_representation(frame)\n",
    "            compare_faces(frame, face_representation, employee_id, facial_area)\n",
    "\n",
    "        except Exception as e:\n",
    "            # print(f'Error: {e}')\n",
    "            pass\n",
    "\n",
    "        if cv2.waitKey(1) & 0xFF == ord('q'):\n",
    "            break\n",
    "\n",
    "    cap.release()\n",
    "    cv2.destroyAllWindows()\n",
    "\n",
    "if __name__ == \"__main__\":\n",
    "    client = Client(host='localhost', port=9000, user='default', database='default')\n",
    "    threshold = 0.60 \n",
    "\n",
    "    main()"
   ]
  },
  {
   "cell_type": "code",
   "execution_count": null,
   "id": "2fdbee4d-7af8-41a9-9c60-9f721d59eee5",
   "metadata": {},
   "outputs": [],
   "source": []
  }
 ],
 "metadata": {
  "kernelspec": {
   "display_name": "Python 3 (ipykernel)",
   "language": "python",
   "name": "python3"
  },
  "language_info": {
   "codemirror_mode": {
    "name": "ipython",
    "version": 3
   },
   "file_extension": ".py",
   "mimetype": "text/x-python",
   "name": "python",
   "nbconvert_exporter": "python",
   "pygments_lexer": "ipython3",
   "version": "3.11.7"
  }
 },
 "nbformat": 4,
 "nbformat_minor": 5
}
